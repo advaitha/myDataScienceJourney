{
 "cells": [
  {
   "attachments": {},
   "cell_type": "markdown",
   "metadata": {},
   "source": [
    "# Transformer Code Implementation"
   ]
  },
  {
   "attachments": {},
   "cell_type": "markdown",
   "metadata": {},
   "source": [
    "This notebook is to practice transformer code implementation. The reference for this [Mark Riedl Github repo](https://github.com/markriedl/transformer-walkthrough?utm_source=pocket_saves). This notebook is a replication for practice purpose."
   ]
  },
  {
   "attachments": {},
   "cell_type": "markdown",
   "metadata": {},
   "source": [
    "![Transformer Architecture](/Images/transformer.png)"
   ]
  },
  {
   "attachments": {},
   "cell_type": "markdown",
   "metadata": {},
   "source": [
    "### Import the library "
   ]
  },
  {
   "cell_type": "code",
   "execution_count": 108,
   "metadata": {},
   "outputs": [],
   "source": [
    "import torch\n",
    "import torch.nn as nn\n",
    "import torch.nn.functional as F\n",
    "import math\n",
    "import numpy as np\n",
    "import matplotlib.pyplot as plt"
   ]
  },
  {
   "attachments": {},
   "cell_type": "markdown",
   "metadata": {},
   "source": [
    "### Hyperparameters "
   ]
  },
  {
   "cell_type": "code",
   "execution_count": 109,
   "metadata": {},
   "outputs": [],
   "source": [
    "d_embed = 512\n",
    "num_heads = 8\n",
    "num_batches = 1\n",
    "vocab = 50_000\n",
    "max_len = 5000\n",
    "n_layers = 1\n",
    "d_ff = 2048\n",
    "epsilon = 1e-6"
   ]
  },
  {
   "cell_type": "markdown",
   "metadata": {},
   "source": [
    "### Make Dummy data "
   ]
  },
  {
   "cell_type": "code",
   "execution_count": 110,
   "metadata": {},
   "outputs": [
    {
     "name": "stdout",
     "output_type": "stream",
     "text": [
      "x torch.Size([1, 3])\n",
      "y torch.Size([1, 3])\n"
     ]
    }
   ],
   "source": [
    "x = torch.tensor([[1,2,3]]) # Input is size batch_size x sequence_length\n",
    "y = torch.tensor([[1,2,3]]) \n",
    "x_mask = torch.tensor([[1,0,1]])\n",
    "y_mask = torch.tensor([[1,0,1]])\n",
    "print(\"x\",x.size())\n",
    "print(\"y\",y.size())\n"
   ]
  },
  {
   "cell_type": "markdown",
   "metadata": {},
   "source": [
    "## Encoder "
   ]
  },
  {
   "attachments": {},
   "cell_type": "markdown",
   "metadata": {},
   "source": [
    "### 1.1 Encoder Embeddings"
   ]
  },
  {
   "cell_type": "code",
   "execution_count": 111,
   "metadata": {},
   "outputs": [
    {
     "name": "stdout",
     "output_type": "stream",
     "text": [
      "torch.Size([1, 3, 512])\n"
     ]
    }
   ],
   "source": [
    "emb = nn.Embedding(vocab, d_embed)\n",
    "# We are extracting the embeddings for the tokens from the vocabulary\n",
    "# The dimensions after this operation will be batch_size x sequence_length x d_embed\n",
    "x = emb(x) \n",
    "# scale the embedding by sqrt(d_model) to make them bigger\n",
    "x = x * math.sqrt(d_embed)\n",
    "print(x.size())"
   ]
  },
  {
   "cell_type": "markdown",
   "metadata": {},
   "source": [
    "#### Adding positional embedding"
   ]
  },
  {
   "cell_type": "code",
   "execution_count": 112,
   "metadata": {},
   "outputs": [
    {
     "name": "stdout",
     "output_type": "stream",
     "text": [
      "torch.Size([1, 3, 512])\n"
     ]
    }
   ],
   "source": [
    "# start with empty tensor\n",
    "pe = torch.zeros(max_len, d_embed, requires_grad=False)\n",
    "# array containing index values 0 to max_len\n",
    "position = torch.arange(0,max_len).unsqueeze(1)\n",
    "divisor = torch.exp(torch.arange(0,d_embed,2)) * -(math.log(10000.0)/d_embed)\n",
    "# Make overlapping sine and cosine wave inside positional embedding tensor\n",
    "pe[:,0::2] = torch.sin(position * divisor)\n",
    "pe[:,1::2] = torch.cos(position * divisor)\n",
    "pe = pe.unsqueeze(0)\n",
    "# Add the positional embedding to the main embedding\n",
    "x = x + pe[:,:x.size(1)]\n",
    "print(x.size())"
   ]
  },
  {
   "attachments": {},
   "cell_type": "markdown",
   "metadata": {},
   "source": [
    "### 1.2 Encoder Attention Layers "
   ]
  },
  {
   "attachments": {},
   "cell_type": "markdown",
   "metadata": {},
   "source": [
    "##### 1.2.1.1 Set aside Residuals "
   ]
  },
  {
   "cell_type": "code",
   "execution_count": 113,
   "metadata": {},
   "outputs": [
    {
     "name": "stdout",
     "output_type": "stream",
     "text": [
      "torch.Size([1, 3, 512])\n"
     ]
    }
   ],
   "source": [
    "x_residual = x.clone()\n",
    "print(x.size())"
   ]
  },
  {
   "cell_type": "markdown",
   "metadata": {},
   "source": [
    "##### 1.2.1.2 Pre-Self Attention Layer Normalization"
   ]
  },
  {
   "cell_type": "code",
   "execution_count": 114,
   "metadata": {},
   "outputs": [
    {
     "name": "stdout",
     "output_type": "stream",
     "text": [
      "torch.Size([1, 3, 512])\n"
     ]
    }
   ],
   "source": [
    "# Centering all the values relative to mean\n",
    "# W and b are hyperparameters which needs tuning\n",
    "mean = x.mean(-1,keepdim=True)\n",
    "std = x.std(-1,keepdim=True)\n",
    "W1 = nn.Parameter(torch.ones(d_embed))\n",
    "b1 = nn.Parameter(torch.zeros(d_embed))\n",
    "x = W1 * (x - mean) / (std + epsilon) + b1\n",
    "print(x.size())"
   ]
  },
  {
   "cell_type": "markdown",
   "metadata": {},
   "source": [
    "##### 1.2.1.3 Self-Attention "
   ]
  },
  {
   "attachments": {},
   "cell_type": "markdown",
   "metadata": {},
   "source": [
    "Self-attention is a process of generating scores that indicate how each token is to every other token. So we would expect a `seq_length x seg_length` matrix of values between 0 and 1, each indicating the importance of the i-th token to the j-th token.\n",
    "\n",
    "The input to self-attention is `batch_size x sequence_length x embedding_size` matrix.\n",
    "\n",
    "Self-attention copies the input `x` , three tiles and calls them `query(q)`, `key(k)` and `values(v)`. Each of these matrices go through a linear layer. The marix learns to make scores in the linear layersa. It makes each matrix different. If the networks comes up with the right, different, matrices, it will get good attention scores.\n",
    "\n",
    "`We designate chunks of each token embedding to different heads`.\n",
    "\n",
    "The q and k tensors are multiplied together. This creates a batch_size x num_heads x sequence_length x sequence_length matrix. Ignoring batching and heads, one can interpret this matrix as containing the raw scores where each cell computes how related the i-th token is to the j-th token (i is the row and j is the column).\n",
    "\n",
    "Next we pass this matrix through a softmax layer. The secret to softmax is that it can act like an argmax---it can pick the best match. Softmax squishes all values along a particular dimenion into 0...1. But what it is really doing is trying to force one particular cell to have a number close to 1 and all the rest close to 0. If we multiply this softmaxed score matrix to the v matrix, we are in essence asking (for each head), which column is best for each row. Recall that rows and columns correspond to tokens. So we are asking, which token goes best with every other token. Again, if the earlier linear layers get their parameters right, this multiplication will make good choices and loss will improve.\n",
    "\n",
    "At this point we can think of the softmaxed scores multiplied against v as tryinng to zero out everything but the most relevant token embedding (several because of multiple heads). The result, which we will store back in x for consistency is mainly the most-attended token embedding (several because of multiple heads) plus a little bit of every other embedded token sprinkled in because we can't do an actual argmax---the best we can do is get everything irrelevant to be close to zero so it doesn't impact anything else.\n",
    "\n",
    "This multiplication of the scores against the v matrix is what we refer to as self-attention. It is essentially a dot-product with an underlying learned scoring function. It basically tells us where we should look for good information. The Decoder will use this later."
   ]
  },
  {
   "cell_type": "code",
   "execution_count": 115,
   "metadata": {},
   "outputs": [
    {
     "name": "stdout",
     "output_type": "stream",
     "text": [
      "q torch.Size([1, 8, 3, 64])\n",
      "k torch.Size([1, 8, 3, 64])\n",
      "v torch.Size([1, 8, 3, 64])\n"
     ]
    }
   ],
   "source": [
    "# Make three versions of x for the query, key and values\n",
    "k = x\n",
    "q = x\n",
    "v = x\n",
    "# Make three linear layers\n",
    "# This is where the network learns to make scores\n",
    "linear_k = nn.Linear(d_embed, d_embed)\n",
    "linear_q = nn.Linear(d_embed, d_embed)\n",
    "linear_v = nn.Linear(d_embed, d_embed)\n",
    "# We are going to fold the embedding dimensions and treat each fold as an attention head\n",
    "d_k = d_embed // num_heads\n",
    "# Pass q, k, v through their linear layers\n",
    "q = linear_q(q)\n",
    "k = linear_k(k)\n",
    "v = linear_v(v)\n",
    "# Do the fold, treating each h dimensions as a head\n",
    "# Put the head in the second position\n",
    "q = q.view(num_batches, -1, num_heads, d_k).transpose(1,2)\n",
    "k = k.view(num_batches, -1, num_heads, d_k).transpose(1,2)\n",
    "v = v.view(num_batches, -1, num_heads, d_k).transpose(1,2)\n",
    "print(\"q\",q.size())\n",
    "print(\"k\",k.size())\n",
    "print(\"v\",v.size())"
   ]
  },
  {
   "cell_type": "markdown",
   "metadata": {},
   "source": [
    "To produce the attention scores we multiply q and k (and normalize). We need to apply the mask so masked tokens don't attend to themselves. Apply softmax to emulate argmax (good stuff close to 1 irrelevant stuff close to 0). You won't see this happen if you look at attn because the linear layers aren't trained yet. The attention scores are finally applied to v."
   ]
  },
  {
   "cell_type": "code",
   "execution_count": 116,
   "metadata": {},
   "outputs": [
    {
     "name": "stdout",
     "output_type": "stream",
     "text": [
      "attention torch.Size([1, 8, 3, 3])\n",
      "x torch.Size([1, 8, 3, 64])\n"
     ]
    }
   ],
   "source": [
    "d_k = q.size(-1)\n",
    "# compute the scores by multiplying k and q (and normalize)\n",
    "scores = torch.matmul(k,q.transpose(-2,-1)) / math.sqrt(d_k)\n",
    "# Mask out the scores\n",
    "scores = scores.masked_fill(x_mask == 0, -epsilon)\n",
    "# Softmax the scores, ideally creating one score close to 1 and the rest close to 0 \n",
    "# (Note: this won't happen if you look at the numbers because the linear layers haven't \n",
    "# learned anything yet.)\n",
    "attn = F.softmax(scores,dim = -1)\n",
    "print(\"attention\",attn.size())\n",
    "# Apply the scores to v\n",
    "x = torch.matmul(attn,v)\n",
    "print(\"x\",x.size())"
   ]
  },
  {
   "cell_type": "code",
   "execution_count": 117,
   "metadata": {},
   "outputs": [
    {
     "name": "stdout",
     "output_type": "stream",
     "text": [
      "x torch.Size([1, 3, 512])\n"
     ]
    }
   ],
   "source": [
    "# Recombine the multiple attention heads (unfold)\n",
    "x = x.transpose(1,2).contiguous().view(num_batches, -1, num_heads * (d_embed // num_heads))\n",
    "print(\"x\",x.size())"
   ]
  },
  {
   "attachments": {},
   "cell_type": "markdown",
   "metadata": {},
   "source": [
    "##### 1.2.1.4 Post Self-attention Feed forward"
   ]
  },
  {
   "cell_type": "code",
   "execution_count": 118,
   "metadata": {},
   "outputs": [
    {
     "name": "stdout",
     "output_type": "stream",
     "text": [
      "torch.Size([1, 3, 512])\n"
     ]
    }
   ],
   "source": [
    "ff = nn.Linear(d_embed, d_embed)\n",
    "x = ff(x)\n",
    "print(x.size())"
   ]
  },
  {
   "cell_type": "markdown",
   "metadata": {},
   "source": [
    "##### 1.2.1.5 Add residual back"
   ]
  },
  {
   "cell_type": "code",
   "execution_count": 119,
   "metadata": {},
   "outputs": [
    {
     "name": "stdout",
     "output_type": "stream",
     "text": [
      "torch.Size([1, 3, 512])\n"
     ]
    }
   ],
   "source": [
    "# Adding the residual - This is changing the original embedding values for each token by some delta up or down\n",
    "x = x_residual + x\n",
    "print(x.size())"
   ]
  },
  {
   "cell_type": "markdown",
   "metadata": {},
   "source": [
    "#### 1.2.2 Feed Forward Module "
   ]
  },
  {
   "attachments": {},
   "cell_type": "markdown",
   "metadata": {},
   "source": [
    "The output of this layer is a stack of hidden states, one for each token. The decoder will be able to look back and attend to the hidden state that will be most useful for decoding by looking just at this stack. To move the matrix toward a hidden state we expand the embeddings, giving the network some capacity, and then collapse it down again to force it to make trade-offs."
   ]
  },
  {
   "attachments": {},
   "cell_type": "markdown",
   "metadata": {},
   "source": [
    "##### 1.2.2.1 Set aside residual "
   ]
  },
  {
   "cell_type": "code",
   "execution_count": 120,
   "metadata": {},
   "outputs": [
    {
     "name": "stdout",
     "output_type": "stream",
     "text": [
      "torch.Size([1, 3, 512])\n"
     ]
    }
   ],
   "source": [
    "x_residual = x.clone()\n",
    "print(x.size())"
   ]
  },
  {
   "attachments": {},
   "cell_type": "markdown",
   "metadata": {},
   "source": [
    "##### 1.2.2.2 Pre-Feed_Forward Layer Normalization "
   ]
  },
  {
   "cell_type": "code",
   "execution_count": 121,
   "metadata": {},
   "outputs": [
    {
     "name": "stdout",
     "output_type": "stream",
     "text": [
      "torch.Size([1, 3, 512])\n"
     ]
    }
   ],
   "source": [
    "mean = x.mean(-1,keepdim=True)\n",
    "std = x.std(-1,keepdim=True)\n",
    "W2 = nn.Parameter(torch.ones(d_embed))\n",
    "b2 = nn.Parameter(torch.zeros(d_embed))\n",
    "x = W2 * (x - mean) / (std + epsilon) + b2\n",
    "print(x.size())"
   ]
  },
  {
   "cell_type": "markdown",
   "metadata": {},
   "source": [
    "##### 1.2.2.2 Pre-Feed Forward Layer Normalization"
   ]
  },
  {
   "cell_type": "code",
   "execution_count": 122,
   "metadata": {},
   "outputs": [
    {
     "name": "stdout",
     "output_type": "stream",
     "text": [
      "torch.Size([1, 3, 512])\n"
     ]
    }
   ],
   "source": [
    "# The embeddings is grown and compressed again.  This is part of process of transforming the outputs of the self-attention module into a hidden state encoding.\n",
    "linear_expand = nn.Linear(d_embed, d_ff)\n",
    "linear_compress = nn.Linear(d_ff, d_embed)\n",
    "x = linear_compress(F.relu(linear_expand(x)))\n",
    "print(x.size())"
   ]
  },
  {
   "cell_type": "code",
   "execution_count": 123,
   "metadata": {},
   "outputs": [
    {
     "name": "stdout",
     "output_type": "stream",
     "text": [
      "torch.Size([1, 3, 512])\n"
     ]
    }
   ],
   "source": [
    "##### 1.1.2.4 Add residual block back\n",
    "x = x_residual + x\n",
    "print(x.size())"
   ]
  },
  {
   "cell_type": "markdown",
   "metadata": {},
   "source": [
    "### 1.3 Final Encoder layer Normalization "
   ]
  },
  {
   "cell_type": "code",
   "execution_count": 124,
   "metadata": {},
   "outputs": [
    {
     "name": "stdout",
     "output_type": "stream",
     "text": [
      "torch.Size([1, 3, 512])\n"
     ]
    }
   ],
   "source": [
    "# After repeating the self-attention and feed forward sub-layers for N times, we apply one last layer normalization\n",
    "mean = x.mean(-1, keepdim=True)\n",
    "std = x.std(-1, keepdim=True)\n",
    "Wn = nn.Parameter(torch.ones(d_embed))\n",
    "bn = nn.Parameter(torch.zeros(d_embed))\n",
    "x = Wn * (x - mean) / (std + epsilon) + bn\n",
    "print(x.size())"
   ]
  },
  {
   "cell_type": "markdown",
   "metadata": {},
   "source": [
    "At this point, we should have a matrix, stored in x that we can interpret as a stack of hidden states. The Decoder will attempt to attend to this stack and pick out (via softmax emulating argmax) the hidden state that is most helpful in guessing the work that goes in the masked position."
   ]
  },
  {
   "cell_type": "code",
   "execution_count": 125,
   "metadata": {},
   "outputs": [
    {
     "name": "stdout",
     "output_type": "stream",
     "text": [
      "torch.Size([1, 3, 512])\n"
     ]
    }
   ],
   "source": [
    "# The output is the hidden state\n",
    "hidden = x\n",
    "print(hidden.size())"
   ]
  },
  {
   "attachments": {},
   "cell_type": "markdown",
   "metadata": {},
   "source": [
    "## Decoder"
   ]
  },
  {
   "attachments": {},
   "cell_type": "markdown",
   "metadata": {},
   "source": [
    "### 2.1 Decoder Embeddings"
   ]
  },
  {
   "cell_type": "code",
   "execution_count": 126,
   "metadata": {},
   "outputs": [
    {
     "name": "stdout",
     "output_type": "stream",
     "text": [
      "torch.Size([1, 3, 512])\n"
     ]
    }
   ],
   "source": [
    "emb_d = nn.Embedding(vocab, d_embed)\n",
    "y = emb_d(y) * math.sqrt(d_embed)\n",
    "print(y.size())"
   ]
  },
  {
   "cell_type": "code",
   "execution_count": 127,
   "metadata": {},
   "outputs": [
    {
     "name": "stdout",
     "output_type": "stream",
     "text": [
      "torch.Size([1, 3, 512])\n"
     ]
    }
   ],
   "source": [
    "pe = torch.zeros(max_len,d_embed, requires_grad = False)\n",
    "position = torch.arange(0, max_len).unsqueeze(1)\n",
    "divisor = torch.exp(torch.arange(0, d_embed, 2) * -(math.log(10000.0) / d_embed))\n",
    "pe[:,0::2] = torch.sin(position * divisor)\n",
    "pe[:,1::2] = torch.cos(position * divisor)\n",
    "pe = pe.unsqueeze(0)\n",
    "y = y + pe[:, :y.size(1)]\n",
    "print(y.size())"
   ]
  },
  {
   "cell_type": "markdown",
   "metadata": {},
   "source": [
    "### 2.2 Decoder Attention Layers "
   ]
  },
  {
   "attachments": {},
   "cell_type": "markdown",
   "metadata": {},
   "source": [
    "#### 2.2.1 Self-attention sub-layer "
   ]
  },
  {
   "cell_type": "markdown",
   "metadata": {},
   "source": [
    "##### 2.2.1.1 set aside residual"
   ]
  },
  {
   "cell_type": "code",
   "execution_count": 128,
   "metadata": {},
   "outputs": [
    {
     "name": "stdout",
     "output_type": "stream",
     "text": [
      "torch.Size([1, 3, 512])\n"
     ]
    }
   ],
   "source": [
    "y_residual = y.clone()\n",
    "print(y.size())"
   ]
  },
  {
   "cell_type": "markdown",
   "metadata": {},
   "source": [
    "##### 2.2.1.2 Pre-self attention Layer Normalization"
   ]
  },
  {
   "cell_type": "code",
   "execution_count": 129,
   "metadata": {},
   "outputs": [
    {
     "name": "stdout",
     "output_type": "stream",
     "text": [
      "torch.Size([1, 3, 512])\n"
     ]
    }
   ],
   "source": [
    "mean = y.mean(-1, keepdim=True)\n",
    "std = y.std(-1, keepdim=True)\n",
    "W1_d = nn.Parameter(torch.ones(d_embed))\n",
    "b1_d = nn.Parameter(torch.zeros(d_embed))\n",
    "y = W1_d * (y - mean) / (std + epsilon) + b1_d\n",
    "print(y.size())"
   ]
  },
  {
   "cell_type": "markdown",
   "metadata": {},
   "source": [
    "##### 2.2.1.3 Self-Attention"
   ]
  },
  {
   "cell_type": "code",
   "execution_count": 130,
   "metadata": {},
   "outputs": [
    {
     "name": "stdout",
     "output_type": "stream",
     "text": [
      "q torch.Size([1, 8, 3, 64])\n",
      "k torch.Size([1, 8, 3, 64])\n",
      "v torch.Size([1, 8, 3, 64])\n"
     ]
    }
   ],
   "source": [
    "k = y\n",
    "q = y\n",
    "v = y\n",
    "linear_q_self = nn.Linear(d_embed, d_embed)\n",
    "linear_k_self = nn.Linear(d_embed, d_embed)\n",
    "linear_v_self = nn.Linear(d_embed, d_embed)\n",
    "d_k = d_embed // num_heads\n",
    "q = linear_q_self(q)\n",
    "k = linear_k_self(k)\n",
    "v = linear_k_self(v)\n",
    "q = q.view(num_batches, -1, num_heads, d_k).transpose(1,2)\n",
    "k = k.view(num_batches, -1, num_heads, d_k).transpose(1,2)\n",
    "v = v.view(num_batches, -1, num_heads, d_k).transpose(1,2)\n",
    "print(\"q\",q.size())\n",
    "print(\"k\",k.size())\n",
    "print(\"v\",v.size())"
   ]
  },
  {
   "cell_type": "code",
   "execution_count": 131,
   "metadata": {},
   "outputs": [
    {
     "name": "stdout",
     "output_type": "stream",
     "text": [
      "attention torch.Size([1, 8, 3, 3])\n",
      "y torch.Size([1, 8, 3, 64])\n"
     ]
    }
   ],
   "source": [
    "d_k = q.size(-1)\n",
    "scores = torch.matmul(k,q.transpose(-2,-1)) / math.sqrt(d_k)\n",
    "scores = scores.masked_fill(y_mask == 0, -epsilon)\n",
    "attn = F.softmax(scores, dim=-1)\n",
    "print(\"attention\",attn.size())\n",
    "y = torch.matmul(attn, v)\n",
    "print(\"y\",y.size())"
   ]
  },
  {
   "cell_type": "code",
   "execution_count": 132,
   "metadata": {},
   "outputs": [
    {
     "name": "stdout",
     "output_type": "stream",
     "text": [
      "torch.Size([1, 3, 512])\n"
     ]
    }
   ],
   "source": [
    "# Assemble heads\n",
    "y = y.transpose(1,2).contiguous().view(num_batches,-1,num_heads * (d_embed // num_heads))\n",
    "print(y.size())"
   ]
  },
  {
   "attachments": {},
   "cell_type": "markdown",
   "metadata": {},
   "source": [
    "##### 2.2.1.4 Post-Self-Attention Feed Forward"
   ]
  },
  {
   "cell_type": "code",
   "execution_count": 133,
   "metadata": {},
   "outputs": [
    {
     "name": "stdout",
     "output_type": "stream",
     "text": [
      "torch.Size([1, 3, 512])\n"
     ]
    }
   ],
   "source": [
    "ff_d1 = nn.Linear(d_embed, d_embed)\n",
    "y = ff_d1(y)\n",
    "print(y.size())"
   ]
  },
  {
   "cell_type": "code",
   "execution_count": 134,
   "metadata": {},
   "outputs": [
    {
     "name": "stdout",
     "output_type": "stream",
     "text": [
      "torch.Size([1, 3, 512])\n"
     ]
    }
   ],
   "source": [
    "##### 2.2.1.5 Add Residual back \n",
    "y = y_residual + y\n",
    "print(y.size())"
   ]
  },
  {
   "cell_type": "markdown",
   "metadata": {},
   "source": [
    "#### 2.2.2 Source-Attention sub-layer"
   ]
  },
  {
   "attachments": {},
   "cell_type": "markdown",
   "metadata": {},
   "source": [
    "#### 2.2.2.1 Set residual aside"
   ]
  },
  {
   "cell_type": "code",
   "execution_count": 135,
   "metadata": {},
   "outputs": [
    {
     "name": "stdout",
     "output_type": "stream",
     "text": [
      "torch.Size([1, 3, 512])\n"
     ]
    }
   ],
   "source": [
    "y_residual = y.clone()\n",
    "print(y.size())"
   ]
  },
  {
   "attachments": {},
   "cell_type": "markdown",
   "metadata": {},
   "source": [
    "#### 2.2.2.2 Pre-Source-Attention Layer Normalization"
   ]
  },
  {
   "cell_type": "code",
   "execution_count": 136,
   "metadata": {},
   "outputs": [
    {
     "name": "stdout",
     "output_type": "stream",
     "text": [
      "torch.Size([1, 3, 512])\n"
     ]
    }
   ],
   "source": [
    "mean = y.mean(-1, keepdim = True)\n",
    "std = y.std(-1, keepdim = True)\n",
    "W2_d = nn.Parameter(torch.ones(d_embed))\n",
    "b2_d = nn.Parameter(torch.ones(d_embed))\n",
    "y = W2_d * (y - mean) / (std + epsilon) + b2_d\n",
    "print(y.size())"
   ]
  },
  {
   "cell_type": "markdown",
   "metadata": {},
   "source": [
    "#### 2.2.2.3 source Attention"
   ]
  },
  {
   "cell_type": "markdown",
   "metadata": {},
   "source": [
    "Source attention works just like self-attention, except we compute the scores using keys and values from the encoder and apply it to the query from the decoder. That is, based on what the encoder thinks we should attend to, what part of the decoder sequence should we actually attend to."
   ]
  },
  {
   "cell_type": "code",
   "execution_count": 137,
   "metadata": {},
   "outputs": [
    {
     "name": "stdout",
     "output_type": "stream",
     "text": [
      "q torch.Size([1, 8, 3, 64])\n",
      "k torch.Size([1, 8, 3, 64])\n",
      "v torch.Size([1, 8, 3, 64])\n"
     ]
    }
   ],
   "source": [
    "q = y\n",
    "k = x # we are using x\n",
    "v = x # we are using x\n",
    "linear_q_source = nn.Linear(d_embed,d_embed)\n",
    "linear_k_source = nn.Linear(d_embed,d_embed)\n",
    "linear_v_source = nn.Linear(d_embed,d_embed)\n",
    "d_k = d_embed // num_heads\n",
    "q = linear_q(q)\n",
    "k = linear_k(k)\n",
    "v = linear_v(v)\n",
    "q = q.view(num_batches, -1, num_heads, d_k).transpose(1,2)\n",
    "v = v.view(num_batches, -1, num_heads, d_k).transpose(1,2)\n",
    "k = k.view(num_batches, -1, num_heads, d_k).transpose(1,2)\n",
    "print(\"q\",q.size())\n",
    "print(\"k\",k.size())\n",
    "print(\"v\",v.size())"
   ]
  },
  {
   "cell_type": "code",
   "execution_count": 138,
   "metadata": {},
   "outputs": [
    {
     "name": "stdout",
     "output_type": "stream",
     "text": [
      "y torch.Size([1, 8, 3, 64])\n"
     ]
    }
   ],
   "source": [
    "d_k = q.size(-1)\n",
    "scores = torch.matmul(k,q.transpose(-2,-1)) / math.sqrt(d_k)\n",
    "attn = F.softmax(scores, dim=-1)\n",
    "y = torch.matmul(attn,v)\n",
    "print(\"y\",y.size())"
   ]
  },
  {
   "cell_type": "code",
   "execution_count": 139,
   "metadata": {},
   "outputs": [
    {
     "name": "stdout",
     "output_type": "stream",
     "text": [
      "torch.Size([1, 3, 512])\n"
     ]
    }
   ],
   "source": [
    "# Assemble heads\n",
    "y = y.transpose(1,2).contiguous().view(num_batches, -1, num_heads * (d_embed // num_heads))\n",
    "print(y.size())"
   ]
  },
  {
   "cell_type": "markdown",
   "metadata": {},
   "source": [
    "#### 2.2.2.4 POst-Source-Attention Feed Forward"
   ]
  },
  {
   "cell_type": "code",
   "execution_count": 140,
   "metadata": {},
   "outputs": [
    {
     "name": "stdout",
     "output_type": "stream",
     "text": [
      "torch.Size([1, 3, 512])\n"
     ]
    }
   ],
   "source": [
    "ff_d2 = nn.Linear(d_embed,d_embed)\n",
    "y = ff_d2(y)\n",
    "print(y.size())"
   ]
  },
  {
   "attachments": {},
   "cell_type": "markdown",
   "metadata": {},
   "source": [
    "##### 2.2.2.5 Add residual back "
   ]
  },
  {
   "cell_type": "code",
   "execution_count": 141,
   "metadata": {},
   "outputs": [
    {
     "name": "stdout",
     "output_type": "stream",
     "text": [
      "torch.Size([1, 3, 512])\n"
     ]
    }
   ],
   "source": [
    "y = y_residual + y\n",
    "print(y.size())"
   ]
  },
  {
   "cell_type": "markdown",
   "metadata": {},
   "source": [
    "### 2.2.3 Feed Forward Sub-Layer"
   ]
  },
  {
   "attachments": {},
   "cell_type": "markdown",
   "metadata": {},
   "source": [
    "##### 2.2.3.1 set aside residual"
   ]
  },
  {
   "cell_type": "code",
   "execution_count": 142,
   "metadata": {},
   "outputs": [
    {
     "name": "stdout",
     "output_type": "stream",
     "text": [
      "torch.Size([1, 3, 512])\n"
     ]
    }
   ],
   "source": [
    "y_residual = y.clone()\n",
    "print(y.size())"
   ]
  },
  {
   "cell_type": "markdown",
   "metadata": {},
   "source": [
    "#### 2.2.3.2 Pre-Feed-Forward Layer Normalization "
   ]
  },
  {
   "cell_type": "code",
   "execution_count": 143,
   "metadata": {},
   "outputs": [
    {
     "name": "stdout",
     "output_type": "stream",
     "text": [
      "torch.Size([1, 3, 512])\n"
     ]
    }
   ],
   "source": [
    "mean = y.mean(-1, keepdim=True)\n",
    "std = y.std(-1, keepdim=True)\n",
    "W3_d = nn.Parameter(torch.ones(d_embed))\n",
    "b3_d = nn.Parameter(torch.zeros(d_embed))\n",
    "y = W3_d * (y - mean) / (std + epsilon) + b3_d\n",
    "print(y.size())"
   ]
  },
  {
   "cell_type": "markdown",
   "metadata": {},
   "source": [
    "#### 2.2.3.3 Feed Forward"
   ]
  },
  {
   "cell_type": "code",
   "execution_count": 144,
   "metadata": {},
   "outputs": [
    {
     "name": "stdout",
     "output_type": "stream",
     "text": [
      "torch.Size([1, 3, 512])\n"
     ]
    }
   ],
   "source": [
    "linear_expand_d = nn.Linear(d_embed, d_ff)\n",
    "linear_compress_d = nn.Linear(d_ff, d_embed)\n",
    "y = linear_compress_d(F.relu(linear_expand_d(y)))\n",
    "print(y.size())"
   ]
  },
  {
   "cell_type": "markdown",
   "metadata": {},
   "source": [
    "#### 2.2.3.4 Add residual back"
   ]
  },
  {
   "cell_type": "code",
   "execution_count": 145,
   "metadata": {},
   "outputs": [
    {
     "name": "stdout",
     "output_type": "stream",
     "text": [
      "torch.Size([1, 3, 512])\n"
     ]
    }
   ],
   "source": [
    "y = y_residual + y\n",
    "print(y.size())"
   ]
  },
  {
   "cell_type": "markdown",
   "metadata": {},
   "source": [
    "### 2.3 Final Decoder layer Normalization"
   ]
  },
  {
   "cell_type": "code",
   "execution_count": 146,
   "metadata": {},
   "outputs": [
    {
     "name": "stdout",
     "output_type": "stream",
     "text": [
      "torch.Size([1, 3, 512])\n"
     ]
    }
   ],
   "source": [
    "mean = y.mean(-1, keepdim=True)\n",
    "std = y.std(-1, keepdim=True)\n",
    "Wn_d = nn.Parameter(torch.ones(d_embed))\n",
    "bn_d = nn.Parameter(torch.zeros(d_embed))\n",
    "y = Wn_d * (y - mean) / (std + epsilon) + bn_d\n",
    "print(y.size())"
   ]
  },
  {
   "cell_type": "markdown",
   "metadata": {},
   "source": [
    "## 3. Generate Probability Distribution "
   ]
  },
  {
   "cell_type": "markdown",
   "metadata": {},
   "source": [
    "This next module sits on top of the decoder and expands the decoder output into a log probability distribution over the vocabulary for each token position. This is done for all tokens, though the only ones that will matter for loss computation are the ones that are masked."
   ]
  },
  {
   "cell_type": "code",
   "execution_count": 147,
   "metadata": {},
   "outputs": [
    {
     "name": "stdout",
     "output_type": "stream",
     "text": [
      "torch.Size([1, 3, 50000])\n"
     ]
    }
   ],
   "source": [
    "linear_scores = nn.Linear(d_embed, vocab)\n",
    "probs = F.log_softmax(linear_scores(y), dim=-1)\n",
    "print(probs.size())"
   ]
  }
 ],
 "metadata": {
  "kernelspec": {
   "display_name": "Python 3",
   "language": "python",
   "name": "python3"
  },
  "language_info": {
   "codemirror_mode": {
    "name": "ipython",
    "version": 3
   },
   "file_extension": ".py",
   "mimetype": "text/x-python",
   "name": "python",
   "nbconvert_exporter": "python",
   "pygments_lexer": "ipython3",
   "version": "3.9.16"
  },
  "orig_nbformat": 4
 },
 "nbformat": 4,
 "nbformat_minor": 2
}
