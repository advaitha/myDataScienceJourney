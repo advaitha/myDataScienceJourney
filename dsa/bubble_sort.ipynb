{
 "cells": [
  {
   "cell_type": "markdown",
   "metadata": {},
   "source": [
    "### Bubble Sort"
   ]
  },
  {
   "cell_type": "code",
   "execution_count": 6,
   "metadata": {},
   "outputs": [],
   "source": [
    "def bubbleSort(array):\n",
    "    isSorted = False \n",
    "    # After one iteration, the last element in the array will be in the correct position.\n",
    "    # `counter` is to Keep track of how many elements are there in the correct position\n",
    "    counter = 0 \n",
    "\n",
    "    while not isSorted:\n",
    "        isSorted = True\n",
    "        for i in range(len(array) - 1 - counter): # Don't go till last element\n",
    "            if array[i] > array[i+1]:                \n",
    "                swap(array,i,i+1)\n",
    "                isSorted = False # If a swap is done, then the array may not be sorted\n",
    "        counter += 1 # Increment the country\n",
    "    return array\n",
    "\n",
    "# Helper functiont to swap the array\n",
    "def swap(array,j,k):\n",
    "    array[j],array[k] = array[k],array[j]"
   ]
  },
  {
   "cell_type": "code",
   "execution_count": 8,
   "metadata": {},
   "outputs": [
    {
     "data": {
      "text/plain": [
       "[2, 3, 5, 5, 6, 8, 9]"
      ]
     },
     "execution_count": 8,
     "metadata": {},
     "output_type": "execute_result"
    }
   ],
   "source": [
    "bubbleSort([8,5,2,9,5,6,3])"
   ]
  }
 ],
 "metadata": {
  "kernelspec": {
   "display_name": "Python 3",
   "language": "python",
   "name": "python3"
  },
  "language_info": {
   "codemirror_mode": {
    "name": "ipython",
    "version": 3
   },
   "file_extension": ".py",
   "mimetype": "text/x-python",
   "name": "python",
   "nbconvert_exporter": "python",
   "pygments_lexer": "ipython3",
   "version": "3.10.6 (main, Nov 14 2022, 16:10:14) [GCC 11.3.0]"
  },
  "orig_nbformat": 4,
  "vscode": {
   "interpreter": {
    "hash": "916dbcbb3f70747c44a77c7bcd40155683ae19c65e1c03b4aa3499c5328201f1"
   }
  }
 },
 "nbformat": 4,
 "nbformat_minor": 2
}
