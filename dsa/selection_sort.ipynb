{
 "cells": [
  {
   "cell_type": "code",
   "execution_count": 2,
   "metadata": {},
   "outputs": [],
   "source": [
    "# O(n**2) Time | O(1) space\n",
    "def selectionSort(array):\n",
    "    currentIdx = 0 #starting position of the unsorted array\n",
    "\n",
    "    while currentIdx < len(array) - 1:\n",
    "        smallestIdx = currentIdx\n",
    "\n",
    "        for i in range(currentIdx+1,len(array)):\n",
    "            if array[smallestIdx] > array[i]: # Find the smallest number in the array\n",
    "                smallestIdx = i\n",
    "        swap(currentIdx,smallestIdx,array) # Get the smallest number to the start of the array\n",
    "        currentIdx += 1 # Shift the position of the unsorted array\n",
    "    return array\n",
    "\n",
    "def swap(i,j,array): # Function to swap the numbers in the array\n",
    "    array[i],array[j] = array[j],array[i]"
   ]
  },
  {
   "cell_type": "code",
   "execution_count": 3,
   "metadata": {},
   "outputs": [
    {
     "data": {
      "text/plain": [
       "[2, 3, 3, 5, 6, 6, 7, 7, 9, 10]"
      ]
     },
     "execution_count": 3,
     "metadata": {},
     "output_type": "execute_result"
    }
   ],
   "source": [
    "selectionSort([10,6,9,3,6,7,3,2,7,5])"
   ]
  }
 ],
 "metadata": {
  "kernelspec": {
   "display_name": "Python 3",
   "language": "python",
   "name": "python3"
  },
  "language_info": {
   "codemirror_mode": {
    "name": "ipython",
    "version": 3
   },
   "file_extension": ".py",
   "mimetype": "text/x-python",
   "name": "python",
   "nbconvert_exporter": "python",
   "pygments_lexer": "ipython3",
   "version": "3.10.6"
  },
  "orig_nbformat": 4,
  "vscode": {
   "interpreter": {
    "hash": "916dbcbb3f70747c44a77c7bcd40155683ae19c65e1c03b4aa3499c5328201f1"
   }
  }
 },
 "nbformat": 4,
 "nbformat_minor": 2
}
