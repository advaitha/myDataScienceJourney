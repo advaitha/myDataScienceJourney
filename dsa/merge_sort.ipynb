{
 "cells": [
  {
   "cell_type": "markdown",
   "metadata": {},
   "source": [
    "## Merge Sort"
   ]
  },
  {
   "cell_type": "code",
   "execution_count": 18,
   "metadata": {},
   "outputs": [],
   "source": [
    "# Time complexity is O(nlogn)\n",
    "\n",
    "def merge_sort(sequence):\n",
    "    \n",
    "    if len(sequence) > 1: # run if the sequence is greater than 1\n",
    "\n",
    "        left_array = sequence[:len(sequence)//2]\n",
    "        right_array = sequence[len(sequence)//2:]\n",
    "\n",
    "        # Recursively split the array\n",
    "        merge_sort(left_array)  \n",
    "        merge_sort(right_array)\n",
    "\n",
    "        # Merge the array\n",
    "        i = 0\n",
    "        j = 0\n",
    "        k = 0\n",
    "\n",
    "        while i < len(left_array) and j < len(right_array):\n",
    "            if left_array[i] < right_array[j]:\n",
    "                sequence[k] = left_array[i]\n",
    "                i += 1\n",
    "\n",
    "            else :            \n",
    "                sequence[k] = right_array[j]\n",
    "                j += 1\n",
    "\n",
    "            k += 1\n",
    "\n",
    "        # If the lenght of the left array is greater than right array,\n",
    "        # append the elements in left array to the sequence\n",
    "        while i < len(left_array):\n",
    "            sequence[k] = left_array[i]\n",
    "            i += 1\n",
    "            k += 1\n",
    "\n",
    "        \n",
    "        # If the lenght of the right array is greater than left array,\n",
    "        # append the elements in right array to the sequence\n",
    "\n",
    "        while j < len(right_array):\n",
    "            sequence[k] = right_array[j]\n",
    "            j += 1\n",
    "            k += 1   \n",
    "    \n",
    "    return sequence"
   ]
  },
  {
   "cell_type": "code",
   "execution_count": 19,
   "metadata": {},
   "outputs": [],
   "source": [
    "# Check if the function is working correct\n",
    "array_test = [5,8,3,9,5,0,9,387,9486,9,4,56]"
   ]
  },
  {
   "cell_type": "code",
   "execution_count": 20,
   "metadata": {},
   "outputs": [
    {
     "data": {
      "text/plain": [
       "[0, 3, 4, 5, 5, 8, 9, 9, 9, 56, 387, 9486]"
      ]
     },
     "execution_count": 20,
     "metadata": {},
     "output_type": "execute_result"
    }
   ],
   "source": [
    "merge_sort(array_test)"
   ]
  }
 ],
 "metadata": {
  "kernelspec": {
   "display_name": "Python 3",
   "language": "python",
   "name": "python3"
  },
  "language_info": {
   "codemirror_mode": {
    "name": "ipython",
    "version": 3
   },
   "file_extension": ".py",
   "mimetype": "text/x-python",
   "name": "python",
   "nbconvert_exporter": "python",
   "pygments_lexer": "ipython3",
   "version": "3.9.0 (default, Nov 15 2020, 14:28:56) \n[GCC 7.3.0]"
  },
  "orig_nbformat": 4,
  "vscode": {
   "interpreter": {
    "hash": "027eb02ca4eec8e93803034586d915a094e887a32eeb5b5d9c1fa62b0fb73c68"
   }
  }
 },
 "nbformat": 4,
 "nbformat_minor": 2
}
