{
 "cells": [
  {
   "attachments": {},
   "cell_type": "markdown",
   "metadata": {},
   "source": [
    "### Quick Sort"
   ]
  },
  {
   "cell_type": "code",
   "execution_count": 17,
   "metadata": {},
   "outputs": [],
   "source": [
    "# Best and average case scenario is nlogn\n",
    "# worst case scenario is O(n**2)\n",
    "\n",
    "def quick_sort(sequence):\n",
    "    \n",
    "    if len(sequence) <= 1: # return sequence if it 1 or less than 1\n",
    "        return sequence\n",
    "\n",
    "    lower = []\n",
    "    higher = []\n",
    "\n",
    "    pivot = sequence.pop() # select the last element as pivot. We can select any element we want.\n",
    "\n",
    "    # create two arrays which are less than and equal to or higher than pivot\n",
    "    for item in sequence:\n",
    "        if item < pivot:\n",
    "            lower.append(item) \n",
    "\n",
    "        else:\n",
    "            higher.append(item)\n",
    "    \n",
    "    # use recursion on each lower and higher array for sorting\n",
    "    # concatenante the results\n",
    "    return quick_sort(lower) + [pivot] + quick_sort(higher)   "
   ]
  },
  {
   "cell_type": "code",
   "execution_count": 18,
   "metadata": {},
   "outputs": [
    {
     "data": {
      "text/plain": [
       "[0, 3, 4, 5, 5, 8, 9, 9, 9, 56, 387, 9486]"
      ]
     },
     "execution_count": 18,
     "metadata": {},
     "output_type": "execute_result"
    }
   ],
   "source": [
    "# Check if the function is working correctly\n",
    "quick_sort([5,8,3,9,5,0,9,387,9486,9,4,56])"
   ]
  }
 ],
 "metadata": {
  "kernelspec": {
   "display_name": "Python 3",
   "language": "python",
   "name": "python3"
  },
  "language_info": {
   "codemirror_mode": {
    "name": "ipython",
    "version": 3
   },
   "file_extension": ".py",
   "mimetype": "text/x-python",
   "name": "python",
   "nbconvert_exporter": "python",
   "pygments_lexer": "ipython3",
   "version": "3.9.0 (default, Nov 15 2020, 14:28:56) \n[GCC 7.3.0]"
  },
  "orig_nbformat": 4,
  "vscode": {
   "interpreter": {
    "hash": "027eb02ca4eec8e93803034586d915a094e887a32eeb5b5d9c1fa62b0fb73c68"
   }
  }
 },
 "nbformat": 4,
 "nbformat_minor": 2
}
