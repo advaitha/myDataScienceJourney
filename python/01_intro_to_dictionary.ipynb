{
 "cells": [
  {
   "cell_type": "markdown",
   "metadata": {},
   "source": [
    "# Introduction to Dictionary "
   ]
  },
  {
   "attachments": {},
   "cell_type": "markdown",
   "metadata": {},
   "source": [
    "## Important points\n",
    "* It is a collection of key-value pairs\n",
    "* we can use any immutable type as a dictionary key - string, integer, float, Boolean, tuples etc. A list nor dictionary cannot be a dictionary key because they are mutable\n",
    "* Dictionary does not support integer indexing like a list. They are indexed by keys\n",
    "* Duplicate keys are not allowed\n",
    "* Duplicate values are allowed"
   ]
  },
  {
   "cell_type": "markdown",
   "metadata": {},
   "source": [
    "## Creating Dictionaries"
   ]
  },
  {
   "cell_type": "markdown",
   "metadata": {},
   "source": []
  },
  {
   "cell_type": "code",
   "execution_count": 1,
   "metadata": {},
   "outputs": [],
   "source": [
    "# Create a dictionary\n",
    "ipl_team_cities = {\n",
    "    \"Chennai Super Kings\": \"Chennai\",\n",
    "    \"Delhi Capitals\": \"Delhi\",\n",
    "    \"Kings XI Punjab\": \"Mohali\",\n",
    "    \"Kolkata Knight Riders\": \"Kolkata\",\n",
    "    \"Mumbai Indians\": \"Mumbai\",\n",
    "    \"Rajasthan Royals\": \"Jaipur\",\n",
    "    \"Royal Challengers Bangalore\": \"Bangalore\",\n",
    "    \"Sunrisers Hyderabad\": \"Hyderabad\"\n",
    "}"
   ]
  },
  {
   "cell_type": "code",
   "execution_count": 2,
   "metadata": {},
   "outputs": [],
   "source": [
    "# Create a dictionary with 'dict()' function\n",
    "# The input to dict should be a sequence of key-value pairs\n",
    "# A list of tuples works as input\n",
    "ipl_teams = dict([(\"Chennai Super Kings\", \"Chennai\"),\n",
    "                    (\"Delhi Capitals\", \"Delhi\"),    \n",
    "                    (\"Kings XI Punjab\", \"Mohali\"),    \n",
    "                    (\"Kolkata Knight Riders\", \"Kolkata\"),    \n",
    "                    (\"Mumbai Indians\", \"Mumbai\"),    \n",
    "                    (\"Rajasthan Royals\", \"Jaipur\"),    \n",
    "                    (\"Royal Challengers Bangalore\", \"Bangalore\"),    \n",
    "                    (\"Sunrisers Hyderabad\", \"Hyderabad\")])"
   ]
  },
  {
   "cell_type": "markdown",
   "metadata": {},
   "source": [
    "## Accessing Dictionary Values"
   ]
  },
  {
   "cell_type": "code",
   "execution_count": 3,
   "metadata": {},
   "outputs": [
    {
     "data": {
      "text/plain": [
       "'Mumbai'"
      ]
     },
     "execution_count": 3,
     "metadata": {},
     "output_type": "execute_result"
    }
   ],
   "source": [
    "ipl_teams['Mumbai Indians']"
   ]
  },
  {
   "cell_type": "code",
   "execution_count": 4,
   "metadata": {},
   "outputs": [
    {
     "ename": "KeyError",
     "evalue": "'Pune Rockers'",
     "output_type": "error",
     "traceback": [
      "\u001b[0;31m---------------------------------------------------------------------------\u001b[0m",
      "\u001b[0;31mKeyError\u001b[0m                                  Traceback (most recent call last)",
      "\u001b[1;32m/home/thulasiram/personal/my_data_science_journey/python/01_dictionary.ipynb Cell 8\u001b[0m in \u001b[0;36m<cell line: 2>\u001b[0;34m()\u001b[0m\n\u001b[1;32m      <a href='vscode-notebook-cell:/home/thulasiram/personal/my_data_science_journey/python/01_dictionary.ipynb#X16sZmlsZQ%3D%3D?line=0'>1</a>\u001b[0m \u001b[39m# Refering a key which is not in the dictionary will raise keyError\u001b[39;00m\n\u001b[0;32m----> <a href='vscode-notebook-cell:/home/thulasiram/personal/my_data_science_journey/python/01_dictionary.ipynb#X16sZmlsZQ%3D%3D?line=1'>2</a>\u001b[0m ipl_teams[\u001b[39m'\u001b[39;49m\u001b[39mPune Rockers\u001b[39;49m\u001b[39m'\u001b[39;49m]\n",
      "\u001b[0;31mKeyError\u001b[0m: 'Pune Rockers'"
     ]
    }
   ],
   "source": [
    "# Refering a key which is not in the dictionary will raise keyError\n",
    "ipl_teams['Pune Rockers']"
   ]
  },
  {
   "cell_type": "code",
   "execution_count": 11,
   "metadata": {},
   "outputs": [],
   "source": [
    "ipl_teams_nested = {\n",
    "    \"Chennai Super Kings\": {\n",
    "        \"city\": \"Chennai\",\n",
    "        \"owner\": \"Chennai Super Kings Cricket Ltd\",\n",
    "        \"coach\": \"Stephen Fleming\",\n",
    "        \"captain\": \"MS Dhoni\",\n",
    "        \"home_ground\": \"M. A. Chidambaram Stadium\"\n",
    "    },\n",
    "    \"Delhi Capitals\": {\n",
    "        \"city\": \"Delhi\",\n",
    "        \"owner\": \"GMR Group and JSW Group\",\n",
    "        \"coach\": \"Ricky Ponting\",\n",
    "        \"captain\": \"Rishabh Pant\",\n",
    "        \"home_ground\": \"Arun Jaitley Stadium\"\n",
    "    }\n",
    "}"
   ]
  },
  {
   "cell_type": "code",
   "execution_count": 12,
   "metadata": {},
   "outputs": [
    {
     "data": {
      "text/plain": [
       "'Chennai'"
      ]
     },
     "execution_count": 12,
     "metadata": {},
     "output_type": "execute_result"
    }
   ],
   "source": [
    "# Accessing the values from the nested dictionary\n",
    "ipl_teams_nested['Chennai Super Kings']['city']"
   ]
  },
  {
   "cell_type": "markdown",
   "metadata": {},
   "source": [
    "### Updating Dictionary values "
   ]
  },
  {
   "cell_type": "code",
   "execution_count": 5,
   "metadata": {},
   "outputs": [
    {
     "data": {
      "text/plain": [
       "{'Chennai Super Kings': 'Chennai',\n",
       " 'Delhi Capitals': 'Delhi',\n",
       " 'Kings XI Punjab': 'Mohali',\n",
       " 'Kolkata Knight Riders': 'Kolkata',\n",
       " 'Mumbai Indians': 'Mumbai',\n",
       " 'Rajasthan Royals': 'Jaipur',\n",
       " 'Royal Challengers Bangalore': 'Bangalore',\n",
       " 'Sunrisers Hyderabad': 'Hyderabad',\n",
       " 'Pune Rockers': 'pune'}"
      ]
     },
     "execution_count": 5,
     "metadata": {},
     "output_type": "execute_result"
    }
   ],
   "source": [
    "# Adding a value to the dictionary\n",
    "ipl_teams['Pune Rockers'] = 'pune'\n",
    "ipl_teams"
   ]
  },
  {
   "cell_type": "code",
   "execution_count": 6,
   "metadata": {},
   "outputs": [
    {
     "data": {
      "text/plain": [
       "{'Chennai Super Kings': 'Chennai',\n",
       " 'Delhi Capitals': 'Delhi',\n",
       " 'Kings XI Punjab': 'Mohali',\n",
       " 'Kolkata Knight Riders': 'Kolkata',\n",
       " 'Mumbai Indians': 'Mumbai',\n",
       " 'Rajasthan Royals': 'Jaipur',\n",
       " 'Royal Challengers Bangalore': 'Bangalore',\n",
       " 'Sunrisers Hyderabad': 'Hyderabad',\n",
       " 'Pune Rockers': 'Pune'}"
      ]
     },
     "execution_count": 6,
     "metadata": {},
     "output_type": "execute_result"
    }
   ],
   "source": [
    "# Updating a value in the dictionary\n",
    "ipl_teams['Pune Rockers'] = 'Pune'\n",
    "ipl_teams"
   ]
  },
  {
   "cell_type": "code",
   "execution_count": 7,
   "metadata": {},
   "outputs": [],
   "source": [
    "# delete a key \n",
    "del ipl_teams['Pune Rockers']"
   ]
  },
  {
   "cell_type": "code",
   "execution_count": 8,
   "metadata": {},
   "outputs": [
    {
     "data": {
      "text/plain": [
       "{'Chennai Super Kings': 'Chennai',\n",
       " 'Delhi Capitals': 'Delhi',\n",
       " 'Kings XI Punjab': 'Mohali',\n",
       " 'Kolkata Knight Riders': 'Kolkata',\n",
       " 'Mumbai Indians': 'Mumbai',\n",
       " 'Rajasthan Royals': 'Jaipur',\n",
       " 'Royal Challengers Bangalore': 'Bangalore',\n",
       " 'Sunrisers Hyderabad': 'Hyderabad'}"
      ]
     },
     "execution_count": 8,
     "metadata": {},
     "output_type": "execute_result"
    }
   ],
   "source": [
    "ipl_teams"
   ]
  },
  {
   "cell_type": "markdown",
   "metadata": {},
   "source": [
    "### Operators and Built-in Functions"
   ]
  },
  {
   "cell_type": "code",
   "execution_count": 13,
   "metadata": {},
   "outputs": [
    {
     "data": {
      "text/plain": [
       "True"
      ]
     },
     "execution_count": 13,
     "metadata": {},
     "output_type": "execute_result"
    }
   ],
   "source": [
    "# check if a key is present in a dictionary\n",
    "'Delhi Capitals' in ipl_teams"
   ]
  },
  {
   "cell_type": "code",
   "execution_count": 14,
   "metadata": {},
   "outputs": [
    {
     "data": {
      "text/plain": [
       "True"
      ]
     },
     "execution_count": 14,
     "metadata": {},
     "output_type": "execute_result"
    }
   ],
   "source": [
    "'Pune Rockers' not in ipl_teams"
   ]
  },
  {
   "cell_type": "code",
   "execution_count": 15,
   "metadata": {},
   "outputs": [
    {
     "data": {
      "text/plain": [
       "8"
      ]
     },
     "execution_count": 15,
     "metadata": {},
     "output_type": "execute_result"
    }
   ],
   "source": [
    "len(ipl_teams)"
   ]
  },
  {
   "cell_type": "markdown",
   "metadata": {},
   "source": [
    "### Dictionary Methods"
   ]
  },
  {
   "cell_type": "code",
   "execution_count": 16,
   "metadata": {},
   "outputs": [
    {
     "data": {
      "text/plain": [
       "{}"
      ]
     },
     "execution_count": 16,
     "metadata": {},
     "output_type": "execute_result"
    }
   ],
   "source": [
    "# clear the dictionary\n",
    "ipl_team_cities.clear()\n",
    "ipl_team_cities"
   ]
  },
  {
   "cell_type": "code",
   "execution_count": 17,
   "metadata": {},
   "outputs": [
    {
     "data": {
      "text/plain": [
       "'Chennai'"
      ]
     },
     "execution_count": 17,
     "metadata": {},
     "output_type": "execute_result"
    }
   ],
   "source": [
    "# Access a value from a dictionary\n",
    "ipl_teams.get('Chennai Super Kings')"
   ]
  },
  {
   "cell_type": "code",
   "execution_count": 19,
   "metadata": {},
   "outputs": [],
   "source": [
    "# If the key is not present in the dictionary, it will return None\n",
    "ipl_teams.get('chennai Super Kings')"
   ]
  },
  {
   "cell_type": "code",
   "execution_count": 22,
   "metadata": {},
   "outputs": [
    {
     "data": {
      "text/plain": [
       "-1"
      ]
     },
     "execution_count": 22,
     "metadata": {},
     "output_type": "execute_result"
    }
   ],
   "source": [
    "# Returns default value instead of None if the key is not present\n",
    "ipl_teams.get('chennai Super Kings', -1) # -1 is the default value here"
   ]
  },
  {
   "cell_type": "code",
   "execution_count": 23,
   "metadata": {},
   "outputs": [
    {
     "data": {
      "text/plain": [
       "dict_items([('Chennai Super Kings', 'Chennai'), ('Delhi Capitals', 'Delhi'), ('Kings XI Punjab', 'Mohali'), ('Kolkata Knight Riders', 'Kolkata'), ('Mumbai Indians', 'Mumbai'), ('Rajasthan Royals', 'Jaipur'), ('Royal Challengers Bangalore', 'Bangalore'), ('Sunrisers Hyderabad', 'Hyderabad')])"
      ]
     },
     "execution_count": 23,
     "metadata": {},
     "output_type": "execute_result"
    }
   ],
   "source": [
    "# Return a list of key-value paris in the dictionary\n",
    "ipl_teams.items()"
   ]
  },
  {
   "cell_type": "code",
   "execution_count": 24,
   "metadata": {},
   "outputs": [
    {
     "data": {
      "text/plain": [
       "dict_items"
      ]
     },
     "execution_count": 24,
     "metadata": {},
     "output_type": "execute_result"
    }
   ],
   "source": [
    "type(ipl_teams.items())"
   ]
  },
  {
   "cell_type": "code",
   "execution_count": 26,
   "metadata": {},
   "outputs": [
    {
     "data": {
      "text/plain": [
       "[('Chennai Super Kings', 'Chennai'),\n",
       " ('Delhi Capitals', 'Delhi'),\n",
       " ('Kings XI Punjab', 'Mohali'),\n",
       " ('Kolkata Knight Riders', 'Kolkata'),\n",
       " ('Mumbai Indians', 'Mumbai'),\n",
       " ('Rajasthan Royals', 'Jaipur'),\n",
       " ('Royal Challengers Bangalore', 'Bangalore'),\n",
       " ('Sunrisers Hyderabad', 'Hyderabad')]"
      ]
     },
     "execution_count": 26,
     "metadata": {},
     "output_type": "execute_result"
    }
   ],
   "source": [
    "list(ipl_teams.items())"
   ]
  },
  {
   "cell_type": "code",
   "execution_count": 27,
   "metadata": {},
   "outputs": [
    {
     "data": {
      "text/plain": [
       "list"
      ]
     },
     "execution_count": 27,
     "metadata": {},
     "output_type": "execute_result"
    }
   ],
   "source": [
    "type(list(ipl_teams.items()))"
   ]
  },
  {
   "cell_type": "code",
   "execution_count": 28,
   "metadata": {},
   "outputs": [
    {
     "data": {
      "text/plain": [
       "dict_keys(['Chennai Super Kings', 'Delhi Capitals', 'Kings XI Punjab', 'Kolkata Knight Riders', 'Mumbai Indians', 'Rajasthan Royals', 'Royal Challengers Bangalore', 'Sunrisers Hyderabad'])"
      ]
     },
     "execution_count": 28,
     "metadata": {},
     "output_type": "execute_result"
    }
   ],
   "source": [
    "# Return keys in a dictionary\n",
    "ipl_teams.keys()"
   ]
  },
  {
   "cell_type": "code",
   "execution_count": 29,
   "metadata": {},
   "outputs": [
    {
     "data": {
      "text/plain": [
       "['Chennai Super Kings',\n",
       " 'Delhi Capitals',\n",
       " 'Kings XI Punjab',\n",
       " 'Kolkata Knight Riders',\n",
       " 'Mumbai Indians',\n",
       " 'Rajasthan Royals',\n",
       " 'Royal Challengers Bangalore',\n",
       " 'Sunrisers Hyderabad']"
      ]
     },
     "execution_count": 29,
     "metadata": {},
     "output_type": "execute_result"
    }
   ],
   "source": [
    "list(ipl_teams.keys())"
   ]
  },
  {
   "cell_type": "code",
   "execution_count": 30,
   "metadata": {},
   "outputs": [
    {
     "data": {
      "text/plain": [
       "['Chennai',\n",
       " 'Delhi',\n",
       " 'Mohali',\n",
       " 'Kolkata',\n",
       " 'Mumbai',\n",
       " 'Jaipur',\n",
       " 'Bangalore',\n",
       " 'Hyderabad']"
      ]
     },
     "execution_count": 30,
     "metadata": {},
     "output_type": "execute_result"
    }
   ],
   "source": [
    "# Return values in a dictionary\n",
    "list(ipl_teams.values())"
   ]
  },
  {
   "cell_type": "code",
   "execution_count": 31,
   "metadata": {},
   "outputs": [
    {
     "data": {
      "text/plain": [
       "'Chennai'"
      ]
     },
     "execution_count": 31,
     "metadata": {},
     "output_type": "execute_result"
    }
   ],
   "source": [
    "# Remove a key from a dictionary, if it is present and return its value\n",
    "ipl_teams.pop('Chennai Super Kings')"
   ]
  },
  {
   "cell_type": "code",
   "execution_count": 32,
   "metadata": {},
   "outputs": [
    {
     "data": {
      "text/plain": [
       "{'Delhi Capitals': 'Delhi',\n",
       " 'Kings XI Punjab': 'Mohali',\n",
       " 'Kolkata Knight Riders': 'Kolkata',\n",
       " 'Mumbai Indians': 'Mumbai',\n",
       " 'Rajasthan Royals': 'Jaipur',\n",
       " 'Royal Challengers Bangalore': 'Bangalore',\n",
       " 'Sunrisers Hyderabad': 'Hyderabad'}"
      ]
     },
     "execution_count": 32,
     "metadata": {},
     "output_type": "execute_result"
    }
   ],
   "source": [
    "ipl_teams"
   ]
  },
  {
   "cell_type": "code",
   "execution_count": 33,
   "metadata": {},
   "outputs": [
    {
     "data": {
      "text/plain": [
       "-1"
      ]
     },
     "execution_count": 33,
     "metadata": {},
     "output_type": "execute_result"
    }
   ],
   "source": [
    "# If the key is not present then it will raise KeyError\n",
    "# provide a default value to avoid KeyError\n",
    "ipl_teams.pop('chennai Super Kings', -1)"
   ]
  },
  {
   "cell_type": "code",
   "execution_count": 34,
   "metadata": {},
   "outputs": [
    {
     "data": {
      "text/plain": [
       "('Sunrisers Hyderabad', 'Hyderabad')"
      ]
     },
     "execution_count": 34,
     "metadata": {},
     "output_type": "execute_result"
    }
   ],
   "source": [
    "# Remove the last key-value pair and return it as a tuple\n",
    "ipl_teams.popitem()"
   ]
  },
  {
   "cell_type": "code",
   "execution_count": 35,
   "metadata": {},
   "outputs": [
    {
     "data": {
      "text/plain": [
       "{'Delhi Capitals': 'Delhi',\n",
       " 'Kings XI Punjab': 'Mohali',\n",
       " 'Kolkata Knight Riders': 'Kolkata',\n",
       " 'Mumbai Indians': 'Mumbai',\n",
       " 'Rajasthan Royals': 'Jaipur',\n",
       " 'Royal Challengers Bangalore': 'Bangalore'}"
      ]
     },
     "execution_count": 35,
     "metadata": {},
     "output_type": "execute_result"
    }
   ],
   "source": [
    "ipl_teams"
   ]
  },
  {
   "cell_type": "code",
   "execution_count": 36,
   "metadata": {},
   "outputs": [],
   "source": [
    "# Merging two dictionaries\n",
    "# d.update(d2) is used to merge two dictionaries\n",
    "# If the key is not present in the first dictionary, it will be added\n",
    "# If the key is present in the first dictionary, it will be updated with the value in the second dictionary\n",
    "ipl_teams.update(ipl_teams_nested)"
   ]
  },
  {
   "cell_type": "code",
   "execution_count": 37,
   "metadata": {},
   "outputs": [
    {
     "data": {
      "text/plain": [
       "{'Delhi Capitals': {'city': 'Delhi',\n",
       "  'owner': 'GMR Group and JSW Group',\n",
       "  'coach': 'Ricky Ponting',\n",
       "  'captain': 'Rishabh Pant',\n",
       "  'home_ground': 'Arun Jaitley Stadium'},\n",
       " 'Kings XI Punjab': 'Mohali',\n",
       " 'Kolkata Knight Riders': 'Kolkata',\n",
       " 'Mumbai Indians': 'Mumbai',\n",
       " 'Rajasthan Royals': 'Jaipur',\n",
       " 'Royal Challengers Bangalore': 'Bangalore',\n",
       " 'Chennai Super Kings': {'city': 'Chennai',\n",
       "  'owner': 'Chennai Super Kings Cricket Ltd',\n",
       "  'coach': 'Stephen Fleming',\n",
       "  'captain': 'MS Dhoni',\n",
       "  'home_ground': 'M. A. Chidambaram Stadium'}}"
      ]
     },
     "execution_count": 37,
     "metadata": {},
     "output_type": "execute_result"
    }
   ],
   "source": [
    "ipl_teams"
   ]
  }
 ],
 "metadata": {
  "kernelspec": {
   "display_name": "Python 3",
   "language": "python",
   "name": "python3"
  },
  "language_info": {
   "codemirror_mode": {
    "name": "ipython",
    "version": 3
   },
   "file_extension": ".py",
   "mimetype": "text/x-python",
   "name": "python",
   "nbconvert_exporter": "python",
   "pygments_lexer": "ipython3",
   "version": "3.9.16"
  },
  "orig_nbformat": 4
 },
 "nbformat": 4,
 "nbformat_minor": 2
}
