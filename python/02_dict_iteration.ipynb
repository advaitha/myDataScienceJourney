{
 "cells": [
  {
   "cell_type": "markdown",
   "metadata": {},
   "source": [
    "# Iterating through a dictionary"
   ]
  },
  {
   "cell_type": "code",
   "execution_count": 1,
   "metadata": {},
   "outputs": [
    {
     "data": {
      "text/plain": [
       "['__class__',\n",
       " '__class_getitem__',\n",
       " '__contains__',\n",
       " '__delattr__',\n",
       " '__delitem__',\n",
       " '__dir__',\n",
       " '__doc__',\n",
       " '__eq__',\n",
       " '__format__',\n",
       " '__ge__',\n",
       " '__getattribute__',\n",
       " '__getitem__',\n",
       " '__gt__',\n",
       " '__hash__',\n",
       " '__init__',\n",
       " '__init_subclass__',\n",
       " '__ior__',\n",
       " '__iter__',\n",
       " '__le__',\n",
       " '__len__',\n",
       " '__lt__',\n",
       " '__ne__',\n",
       " '__new__',\n",
       " '__or__',\n",
       " '__reduce__',\n",
       " '__reduce_ex__',\n",
       " '__repr__',\n",
       " '__reversed__',\n",
       " '__ror__',\n",
       " '__setattr__',\n",
       " '__setitem__',\n",
       " '__sizeof__',\n",
       " '__str__',\n",
       " '__subclasshook__',\n",
       " 'clear',\n",
       " 'copy',\n",
       " 'fromkeys',\n",
       " 'get',\n",
       " 'items',\n",
       " 'keys',\n",
       " 'pop',\n",
       " 'popitem',\n",
       " 'setdefault',\n",
       " 'update',\n",
       " 'values']"
      ]
     },
     "execution_count": 1,
     "metadata": {},
     "output_type": "execute_result"
    }
   ],
   "source": [
    "# Methods and attributes of dictionaries\n",
    "dir({})"
   ]
  },
  {
   "attachments": {},
   "cell_type": "markdown",
   "metadata": {},
   "source": [
    " __iter__ in the above output means that the dictionary is iterable and we can use the `for loop` directly on a dictionary to iterate over the keys."
   ]
  },
  {
   "cell_type": "markdown",
   "metadata": {},
   "source": [
    "### Iterating the keys of a dictionary"
   ]
  },
  {
   "cell_type": "code",
   "execution_count": 2,
   "metadata": {},
   "outputs": [],
   "source": [
    "ipl_team_cities = {\n",
    "    \"Chennai Super Kings\": \"Chennai\",\n",
    "    \"Delhi Capitals\": \"Delhi\",\n",
    "    \"Kings XI Punjab\": \"Mohali\",\n",
    "    \"Kolkata Knight Riders\": \"Kolkata\",\n",
    "    \"Mumbai Indians\": \"Mumbai\",\n",
    "    \"Rajasthan Royals\": \"Jaipur\",\n",
    "    \"Royal Challengers Bangalore\": \"Bangalore\",\n",
    "    \"Sunrisers Hyderabad\": \"Hyderabad\"\n",
    "}"
   ]
  },
  {
   "cell_type": "code",
   "execution_count": 3,
   "metadata": {},
   "outputs": [
    {
     "name": "stdout",
     "output_type": "stream",
     "text": [
      "Chennai Super Kings\n",
      "Delhi Capitals\n",
      "Kings XI Punjab\n",
      "Kolkata Knight Riders\n",
      "Mumbai Indians\n",
      "Rajasthan Royals\n",
      "Royal Challengers Bangalore\n",
      "Sunrisers Hyderabad\n"
     ]
    }
   ],
   "source": [
    "for key in ipl_team_cities:\n",
    "    print(key)"
   ]
  },
  {
   "cell_type": "markdown",
   "metadata": {},
   "source": [
    "### Iterating over keys and values"
   ]
  },
  {
   "cell_type": "code",
   "execution_count": 5,
   "metadata": {},
   "outputs": [
    {
     "data": {
      "text/plain": [
       "dict_items([('Chennai Super Kings', 'Chennai'), ('Delhi Capitals', 'Delhi'), ('Kings XI Punjab', 'Mohali'), ('Kolkata Knight Riders', 'Kolkata'), ('Mumbai Indians', 'Mumbai'), ('Rajasthan Royals', 'Jaipur'), ('Royal Challengers Bangalore', 'Bangalore'), ('Sunrisers Hyderabad', 'Hyderabad')])"
      ]
     },
     "execution_count": 5,
     "metadata": {},
     "output_type": "execute_result"
    }
   ],
   "source": [
    "# items() is a method which will return a new 'view' of the dictionary items\n",
    "# If the dictionary changes, the view will reflect the changes\n",
    "ipl_team_cities.items()"
   ]
  },
  {
   "cell_type": "code",
   "execution_count": 6,
   "metadata": {},
   "outputs": [
    {
     "name": "stdout",
     "output_type": "stream",
     "text": [
      "('Chennai Super Kings', 'Chennai')\n",
      "('Delhi Capitals', 'Delhi')\n",
      "('Kings XI Punjab', 'Mohali')\n",
      "('Kolkata Knight Riders', 'Kolkata')\n",
      "('Mumbai Indians', 'Mumbai')\n",
      "('Rajasthan Royals', 'Jaipur')\n",
      "('Royal Challengers Bangalore', 'Bangalore')\n",
      "('Sunrisers Hyderabad', 'Hyderabad')\n"
     ]
    }
   ],
   "source": [
    "# views can be iterated over\n",
    "for item in ipl_team_cities.items():\n",
    "    print(item)"
   ]
  },
  {
   "cell_type": "code",
   "execution_count": 7,
   "metadata": {},
   "outputs": [
    {
     "name": "stdout",
     "output_type": "stream",
     "text": [
      "Chennai Super Kings - Chennai\n",
      "Delhi Capitals - Delhi\n",
      "Kings XI Punjab - Mohali\n",
      "Kolkata Knight Riders - Kolkata\n",
      "Mumbai Indians - Mumbai\n",
      "Rajasthan Royals - Jaipur\n",
      "Royal Challengers Bangalore - Bangalore\n",
      "Sunrisers Hyderabad - Hyderabad\n"
     ]
    }
   ],
   "source": [
    "# Unpacking the tuple\n",
    "for key, value in ipl_team_cities.items():\n",
    "    print(key, '-', value)"
   ]
  },
  {
   "attachments": {},
   "cell_type": "markdown",
   "metadata": {},
   "source": [
    "### Dictionary Comprehensions"
   ]
  },
  {
   "cell_type": "code",
   "execution_count": 8,
   "metadata": {},
   "outputs": [],
   "source": [
    "teams = list(ipl_team_cities.keys())\n",
    "cities = list(ipl_team_cities.values())"
   ]
  },
  {
   "cell_type": "code",
   "execution_count": 11,
   "metadata": {},
   "outputs": [
    {
     "data": {
      "text/plain": [
       "['Chennai Super Kings',\n",
       " 'Delhi Capitals',\n",
       " 'Kings XI Punjab',\n",
       " 'Kolkata Knight Riders',\n",
       " 'Mumbai Indians',\n",
       " 'Rajasthan Royals',\n",
       " 'Royal Challengers Bangalore',\n",
       " 'Sunrisers Hyderabad']"
      ]
     },
     "execution_count": 11,
     "metadata": {},
     "output_type": "execute_result"
    }
   ],
   "source": [
    "teams"
   ]
  },
  {
   "cell_type": "code",
   "execution_count": 12,
   "metadata": {},
   "outputs": [],
   "source": [
    "new_dict = {key:value for key, value in zip(teams, cities)}"
   ]
  },
  {
   "cell_type": "code",
   "execution_count": 13,
   "metadata": {},
   "outputs": [
    {
     "data": {
      "text/plain": [
       "{'Chennai Super Kings': 'Chennai',\n",
       " 'Delhi Capitals': 'Delhi',\n",
       " 'Kings XI Punjab': 'Mohali',\n",
       " 'Kolkata Knight Riders': 'Kolkata',\n",
       " 'Mumbai Indians': 'Mumbai',\n",
       " 'Rajasthan Royals': 'Jaipur',\n",
       " 'Royal Challengers Bangalore': 'Bangalore',\n",
       " 'Sunrisers Hyderabad': 'Hyderabad'}"
      ]
     },
     "execution_count": 13,
     "metadata": {},
     "output_type": "execute_result"
    }
   ],
   "source": [
    "new_dict"
   ]
  },
  {
   "cell_type": "code",
   "execution_count": 14,
   "metadata": {},
   "outputs": [],
   "source": [
    "# Dictionary comprehension using items() method\n",
    "# swapping the keys and values\n",
    "new_dict_2 = {value:key for key, value in ipl_team_cities.items()}"
   ]
  },
  {
   "cell_type": "code",
   "execution_count": 15,
   "metadata": {},
   "outputs": [
    {
     "data": {
      "text/plain": [
       "{'Chennai': 'Chennai Super Kings',\n",
       " 'Delhi': 'Delhi Capitals',\n",
       " 'Mohali': 'Kings XI Punjab',\n",
       " 'Kolkata': 'Kolkata Knight Riders',\n",
       " 'Mumbai': 'Mumbai Indians',\n",
       " 'Jaipur': 'Rajasthan Royals',\n",
       " 'Bangalore': 'Royal Challengers Bangalore',\n",
       " 'Hyderabad': 'Sunrisers Hyderabad'}"
      ]
     },
     "execution_count": 15,
     "metadata": {},
     "output_type": "execute_result"
    }
   ],
   "source": [
    "new_dict_2"
   ]
  },
  {
   "cell_type": "markdown",
   "metadata": {},
   "source": [
    "### Filtering using dictionary comprehension"
   ]
  },
  {
   "cell_type": "code",
   "execution_count": 16,
   "metadata": {},
   "outputs": [],
   "source": [
    "new_dict_3 = {key:value for key, value in ipl_team_cities.items() if value in ['Chennai', 'Delhi']}"
   ]
  },
  {
   "cell_type": "code",
   "execution_count": 18,
   "metadata": {},
   "outputs": [
    {
     "data": {
      "text/plain": [
       "{'Chennai Super Kings': 'Chennai', 'Delhi Capitals': 'Delhi'}"
      ]
     },
     "execution_count": 18,
     "metadata": {},
     "output_type": "execute_result"
    }
   ],
   "source": [
    "new_dict_3"
   ]
  },
  {
   "cell_type": "markdown",
   "metadata": {},
   "source": [
    "### Sorting the dictionary"
   ]
  },
  {
   "cell_type": "code",
   "execution_count": 20,
   "metadata": {},
   "outputs": [],
   "source": [
    "ipl_sorted = {key:ipl_team_cities[key] for key in sorted(ipl_team_cities)}"
   ]
  },
  {
   "cell_type": "code",
   "execution_count": 21,
   "metadata": {},
   "outputs": [
    {
     "data": {
      "text/plain": [
       "{'Chennai Super Kings': 'Chennai',\n",
       " 'Delhi Capitals': 'Delhi',\n",
       " 'Kings XI Punjab': 'Mohali',\n",
       " 'Kolkata Knight Riders': 'Kolkata',\n",
       " 'Mumbai Indians': 'Mumbai',\n",
       " 'Rajasthan Royals': 'Jaipur',\n",
       " 'Royal Challengers Bangalore': 'Bangalore',\n",
       " 'Sunrisers Hyderabad': 'Hyderabad'}"
      ]
     },
     "execution_count": 21,
     "metadata": {},
     "output_type": "execute_result"
    }
   ],
   "source": [
    "ipl_sorted"
   ]
  },
  {
   "cell_type": "code",
   "execution_count": 22,
   "metadata": {},
   "outputs": [
    {
     "name": "stdout",
     "output_type": "stream",
     "text": [
      "orange -> 3500.0\n",
      "banana -> 5000.0\n",
      "apple -> 5600.0\n"
     ]
    }
   ],
   "source": [
    "# Sorting by values\n",
    "incomes = {'apple': 5600.00, 'orange': 3500.00, 'banana': 5000.00}\n",
    "def by_value(item):\n",
    "    return item[1]\n",
    "\n",
    "for k, v in sorted(incomes.items(), key=by_value):\n",
    "    print(k, '->', v)"
   ]
  },
  {
   "cell_type": "markdown",
   "metadata": {},
   "source": [
    "In the above example, by_value is a key function. It is telling sorted() to sort incomes.items() by the second element of each item, i.e by the value item[1]"
   ]
  },
  {
   "attachments": {},
   "cell_type": "markdown",
   "metadata": {},
   "source": [
    "### Using map() for iteration"
   ]
  },
  {
   "attachments": {},
   "cell_type": "markdown",
   "metadata": {},
   "source": [
    "* Python map() takes a function and an iterable as arguments.\n",
    "* map() returns a map object whose values are the return values of calling the function on each item of the iterable."
   ]
  },
  {
   "cell_type": "code",
   "execution_count": 23,
   "metadata": {},
   "outputs": [],
   "source": [
    "product_prices = {\n",
    "    'Product 1': 10.99,\n",
    "    'Product 2': 5.99,\n",
    "    'Product 3': 8.49,\n",
    "    'Product 4': 12.99,\n",
    "    'Product 5': 15.99,\n",
    "    'Product 6': 7.99,\n",
    "    'Product 7': 6.49,\n",
    "    'Product 8': 9.99,\n",
    "    'Product 9': 3.99,\n",
    "    'Product 10': 11.49\n",
    "}"
   ]
  },
  {
   "cell_type": "code",
   "execution_count": 24,
   "metadata": {},
   "outputs": [],
   "source": [
    "def discount(price):\n",
    "    return (price[0],round(price[1]*0.9,2))\n",
    "\n",
    "new_product_prices = dict(map(discount, product_prices.items()))  "
   ]
  },
  {
   "cell_type": "code",
   "execution_count": 26,
   "metadata": {},
   "outputs": [
    {
     "data": {
      "text/plain": [
       "{'Product 1': 9.89,\n",
       " 'Product 2': 5.39,\n",
       " 'Product 3': 7.64,\n",
       " 'Product 4': 11.69,\n",
       " 'Product 5': 14.39,\n",
       " 'Product 6': 7.19,\n",
       " 'Product 7': 5.84,\n",
       " 'Product 8': 8.99,\n",
       " 'Product 9': 3.59,\n",
       " 'Product 10': 10.34}"
      ]
     },
     "execution_count": 26,
     "metadata": {},
     "output_type": "execute_result"
    }
   ],
   "source": [
    "new_product_prices"
   ]
  },
  {
   "attachments": {},
   "cell_type": "markdown",
   "metadata": {},
   "source": [
    "### using filter() on dictionaries\n",
    "* filter() takes a function and iterable as arguments\n",
    "* It returns an iterator from those elements of iterable for which function returns True"
   ]
  },
  {
   "cell_type": "code",
   "execution_count": 31,
   "metadata": {},
   "outputs": [
    {
     "data": {
      "text/plain": [
       "['Product 2', 'Product 7', 'Product 9']"
      ]
     },
     "execution_count": 31,
     "metadata": {},
     "output_type": "execute_result"
    }
   ],
   "source": [
    "def low_price(price):\n",
    "    return new_product_prices[price] < 6.0\n",
    "\n",
    "low_prices = list(filter(low_price, new_product_prices))\n",
    "low_prices"
   ]
  },
  {
   "cell_type": "markdown",
   "metadata": {},
   "source": [
    "### Using ChainMap for Iteration\n",
    "* ChainMap is a dictionary that allows you to combine multiple dictionaries into one.\n",
    "* It creates a single view of multiple mappings"
   ]
  },
  {
   "cell_type": "code",
   "execution_count": 33,
   "metadata": {},
   "outputs": [
    {
     "data": {
      "text/plain": [
       "ChainMap({'pear': 0.35, 'mango': 0.45}, {'potato': 0.2, 'tomato': 0.25})"
      ]
     },
     "execution_count": 33,
     "metadata": {},
     "output_type": "execute_result"
    }
   ],
   "source": [
    "from collections import ChainMap\n",
    "fruit_prices = {'pear': 0.35, 'mango':0.45}\n",
    "veg_prices = {'potato': 0.20, 'tomato': 0.25}\n",
    "chained_dict = ChainMap(fruit_prices, veg_prices)\n",
    "chained_dict"
   ]
  },
  {
   "cell_type": "code",
   "execution_count": 34,
   "metadata": {},
   "outputs": [
    {
     "name": "stdout",
     "output_type": "stream",
     "text": [
      "potato -> 0.2\n",
      "tomato -> 0.25\n",
      "pear -> 0.35\n",
      "mango -> 0.45\n"
     ]
    }
   ],
   "source": [
    "for key in chained_dict:\n",
    "    print(key, '->', chained_dict[key])"
   ]
  },
  {
   "attachments": {},
   "cell_type": "markdown",
   "metadata": {},
   "source": [
    "### Using chain from itertools\n",
    "* chain() is similar to ChainMap(). we can combine multiple dictionaries and iterate over them"
   ]
  },
  {
   "cell_type": "code",
   "execution_count": 35,
   "metadata": {},
   "outputs": [
    {
     "name": "stdout",
     "output_type": "stream",
     "text": [
      "('pear', 0.35)\n",
      "('mango', 0.45)\n",
      "('potato', 0.2)\n",
      "('tomato', 0.25)\n"
     ]
    }
   ],
   "source": [
    "from itertools import chain\n",
    "for item in chain(fruit_prices.items(), veg_prices.items()):\n",
    "    print(item)"
   ]
  },
  {
   "cell_type": "markdown",
   "metadata": {},
   "source": [
    "### Iterating using unpacking operator "
   ]
  },
  {
   "cell_type": "code",
   "execution_count": 44,
   "metadata": {},
   "outputs": [
    {
     "data": {
      "text/plain": [
       "{'potato': 0.2, 'tomato': 0.25, 'pear': 0.35, 'mango': 0.45}"
      ]
     },
     "execution_count": 44,
     "metadata": {},
     "output_type": "execute_result"
    }
   ],
   "source": [
    "# using unpacking operator to create single dictionary from multiple dictionaries\n",
    "{**veg_prices, **fruit_prices}"
   ]
  },
  {
   "cell_type": "code",
   "execution_count": 45,
   "metadata": {},
   "outputs": [
    {
     "name": "stdout",
     "output_type": "stream",
     "text": [
      "potato -> 0.2\n",
      "tomato -> 0.25\n",
      "pear -> 0.35\n",
      "mango -> 0.45\n"
     ]
    }
   ],
   "source": [
    "for k, v in {**veg_prices, **fruit_prices}.items():\n",
    "    print(k, '->', v)"
   ]
  }
 ],
 "metadata": {
  "kernelspec": {
   "display_name": "Python 3",
   "language": "python",
   "name": "python3"
  },
  "language_info": {
   "codemirror_mode": {
    "name": "ipython",
    "version": 3
   },
   "file_extension": ".py",
   "mimetype": "text/x-python",
   "name": "python",
   "nbconvert_exporter": "python",
   "pygments_lexer": "ipython3",
   "version": "3.9.16"
  },
  "orig_nbformat": 4
 },
 "nbformat": 4,
 "nbformat_minor": 2
}
