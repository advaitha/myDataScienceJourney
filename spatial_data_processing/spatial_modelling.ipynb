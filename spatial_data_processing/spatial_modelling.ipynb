{
 "cells": [
  {
   "cell_type": "code",
   "execution_count": null,
   "metadata": {},
   "outputs": [],
   "source": [
    "import warnings\n",
    "import keplergl\n",
    "import numpy as np\n",
    "import osmnx as ox\n",
    "import pandas as pd\n",
    "import geopandas as gpd\n",
    "import plotly.express as px\n",
    "from skgstat import Variogram\n",
    "import matplotlib.pyplot as plt\n",
    "from shapely.geometry import Point\n",
    "from pykrige.ok import OrdinaryKriging\n",
    "from scipy.interpolate import NearestNDInterpolator\n",
    "from tobler.area_weighted import area_interpolate\n",
    "# Custom functions\n",
    "from scripts.utils import pixel2poly\n",
    "# Plotting defaults\n",
    "plt.style.use('ggplot')\n",
    "px.defaults.height = 400; px.defaults.width = 620\n",
    "plt.rcParams.update({'font.size': 16, 'axes.labelweight': 'bold', 'figure.figsize': (6, 6), 'axes.grid': False})"
   ]
  }
 ],
 "metadata": {
  "kernelspec": {
   "display_name": "Python 3",
   "language": "python",
   "name": "python3"
  },
  "language_info": {
   "name": "python",
   "version": "3.9.15 (main, Nov 24 2022, 14:31:59) \n[GCC 11.2.0]"
  },
  "orig_nbformat": 4,
  "vscode": {
   "interpreter": {
    "hash": "b03347e7e54f9ff2347fe160bf473b32c59d767e6b158e77aeb87bcb8666f1d2"
   }
  }
 },
 "nbformat": 4,
 "nbformat_minor": 2
}
